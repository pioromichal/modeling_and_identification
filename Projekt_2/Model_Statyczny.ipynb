{
 "cells": [
  {
   "metadata": {
    "ExecuteTime": {
     "end_time": "2024-06-08T20:17:13.181437Z",
     "start_time": "2024-06-08T20:17:13.177998Z"
    }
   },
   "cell_type": "code",
   "source": [
    "import numpy as np\n",
    "import matplotlib.pyplot as plt\n",
    "from Projekt_2 import nmk_lin_mod_stat, nmk_nlin_mod_stat, model_stat_error, lin_mod_stat_func,nlin_mod_stat_func"
   ],
   "id": "b89afc220ed92952",
   "execution_count": 17,
   "outputs": []
  },
  {
   "metadata": {},
   "cell_type": "markdown",
   "source": "# Wczytanie i podział danych statycznych na zbiór uczący i weryfikujący.",
   "id": "22a5d949c43ffdcc"
  },
  {
   "metadata": {
    "ExecuteTime": {
     "end_time": "2024-06-08T20:17:13.227839Z",
     "start_time": "2024-06-08T20:17:13.223842Z"
    }
   },
   "cell_type": "code",
   "source": [
    "dane_stat = np.loadtxt('dane/danestat13.txt')\n",
    "dane_ucz = dane_stat[::2]\n",
    "dane_wer = dane_stat[1::2]\n",
    "print(dane_wer.shape)"
   ],
   "id": "d384556c2e063655",
   "execution_count": 18,
   "outputs": []
  },
  {
   "metadata": {},
   "cell_type": "markdown",
   "source": "# Rysowanie wykresów zbirów uczącego i weryfikującego",
   "id": "6f77f1cea7566a72"
  },
  {
   "metadata": {
    "ExecuteTime": {
     "end_time": "2024-06-08T20:17:13.406712Z",
     "start_time": "2024-06-08T20:17:13.228740Z"
    }
   },
   "cell_type": "code",
   "source": [
    "plt.figure(figsize=(6, 4))\n",
    "plt.plot(dane_ucz[:,0],dane_ucz[:,1], 'o')\n",
    "plt.title('Wykres zbioru uczącego')\n",
    "plt.xlabel('u')\n",
    "plt.ylabel('y')\n",
    "plt.grid(True)\n",
    "path='wykresy/dane_stat_ucz.png'\n",
    "plt.savefig(path,dpi=300)\n",
    "plt.show()"
   ],
   "id": "f7fdeb492c29c7ae",
   "execution_count": 19,
   "outputs": []
  },
  {
   "metadata": {
    "ExecuteTime": {
     "end_time": "2024-06-08T20:17:13.628500Z",
     "start_time": "2024-06-08T20:17:13.407717Z"
    }
   },
   "cell_type": "code",
   "source": [
    "plt.figure(figsize=(6, 4))\n",
    "plt.plot(dane_wer[:,0],dane_wer[:,1],'o')\n",
    "plt.title('Wykres zbioru weryfikującego')\n",
    "plt.xlabel('u')\n",
    "plt.ylabel('y')\n",
    "plt.grid(True)\n",
    "path='wykresy/dane_stat_wer.png'\n",
    "plt.savefig(path,dpi=300)\n",
    "plt.show()"
   ],
   "id": "cf6da3b72dc85a92",
   "execution_count": 20,
   "outputs": []
  },
  {
   "metadata": {},
   "cell_type": "markdown",
   "source": [
    "# Statyczny model liniowy metodą najmiejszych kwadratów\n",
    "## Wyznaczanie parametrów"
   ],
   "id": "1e083ad29ed6f169"
  },
  {
   "metadata": {
    "ExecuteTime": {
     "end_time": "2024-06-08T20:17:13.631739Z",
     "start_time": "2024-06-08T20:17:13.629507Z"
    }
   },
   "cell_type": "code",
   "source": [
    "M=np.column_stack((np.ones(dane_ucz.shape[0]), dane_ucz[:,0]))\n",
    "Y=dane_ucz[:,1][:, np.newaxis]"
   ],
   "id": "75b1e0b3a09655b0",
   "execution_count": 21,
   "outputs": []
  },
  {
   "metadata": {
    "ExecuteTime": {
     "end_time": "2024-06-08T20:17:13.644289Z",
     "start_time": "2024-06-08T20:17:13.632752Z"
    }
   },
   "cell_type": "code",
   "source": [
    "# a=np.dot(np.dot(np.linalg.inv(np.dot(M.T, M)), M.T), Y)\n",
    "a=nmk_lin_mod_stat(dane_ucz[:,0][:, np.newaxis],dane_ucz[:,1][:, np.newaxis])\n",
    "print(a)"
   ],
   "id": "8587f6b909732b6f",
   "execution_count": 22,
   "outputs": []
  },
  {
   "metadata": {
    "ExecuteTime": {
     "end_time": "2024-06-08T20:17:13.752016Z",
     "start_time": "2024-06-08T20:17:13.644289Z"
    }
   },
   "cell_type": "code",
   "source": [
    "u_vals = np.linspace(-1,1,100)\n",
    "def func(x):\n",
    "    return a[0]+a[1]*x\n",
    "\n",
    "plt.figure(figsize=(6, 4))\n",
    "plt.plot(u_vals,np.vectorize(func)(u_vals))\n",
    "\n",
    "plt.title('Charakterystyka statyczna y(u)')\n",
    "plt.xlabel('u')\n",
    "plt.ylabel('y')\n",
    "plt.grid(True)\n",
    "plt.show()"
   ],
   "id": "1a7112764348eab2",
   "execution_count": 23,
   "outputs": []
  },
  {
   "metadata": {},
   "cell_type": "markdown",
   "source": "## Sprawdzenie poprawności rozwiązania",
   "id": "f780a74eb5f1e7a7"
  },
  {
   "metadata": {
    "ExecuteTime": {
     "end_time": "2024-06-08T20:17:13.842940Z",
     "start_time": "2024-06-08T20:17:13.753022Z"
    }
   },
   "cell_type": "code",
   "source": [
    "def func(x):\n",
    "    return a[0]+a[1]*x\n",
    "\n",
    "plt.figure(figsize=(6, 4))\n",
    "plt.plot(dane_ucz[:,0],dane_ucz[:,1], 'o', label='obiekt')\n",
    "plt.plot(dane_ucz[:,0],np.vectorize(func)(dane_ucz[:,0]), 'o', label='model')\n",
    "plt.title('Wykres modelu i obiektu zbioru uczącego')\n",
    "plt.xlabel('u')\n",
    "plt.ylabel('y')\n",
    "plt.legend()\n",
    "plt.grid(True)\n",
    "plt.show()"
   ],
   "id": "c79cc53635da6ef9",
   "execution_count": 24,
   "outputs": []
  },
  {
   "metadata": {
    "ExecuteTime": {
     "end_time": "2024-06-08T20:17:13.932163Z",
     "start_time": "2024-06-08T20:17:13.842940Z"
    }
   },
   "cell_type": "code",
   "source": [
    "def func(x):\n",
    "    return a[0]+a[1]*x\n",
    "\n",
    "plt.figure(figsize=(6, 4))\n",
    "plt.plot(dane_wer[:,0],dane_wer[:,1], 'o', label='obiekt')\n",
    "plt.plot(dane_wer[:,0],np.vectorize(func)(dane_wer[:,0]), 'o', label='model')\n",
    "print(dane_wer.shape)\n",
    "print(np.array([func(x) for x in dane_wer[:,0]]).T.shape)\n",
    "plt.title('Wykres modelu i obiektu zbioru weryfikującego')\n",
    "plt.xlabel('u')\n",
    "plt.ylabel('y')\n",
    "plt.legend()\n",
    "plt.grid(True)\n",
    "plt.show()"
   ],
   "id": "b9b50e72c72b98d2",
   "execution_count": 25,
   "outputs": []
  },
  {
   "metadata": {},
   "cell_type": "markdown",
   "source": "##  Wyznaczenie błędów",
   "id": "62da11a323bad718"
  },
  {
   "metadata": {
    "ExecuteTime": {
     "end_time": "2024-06-08T20:17:13.937674Z",
     "start_time": "2024-06-08T20:17:13.933167Z"
    }
   },
   "cell_type": "code",
   "source": [
    "error_ucz_sum = model_stat_error(dane_ucz[:,0], dane_ucz[:,1], lin_mod_stat_func, a)\n",
    "error_wer_sum = model_stat_error(dane_wer[:,0], dane_wer[:,1], lin_mod_stat_func, a)\n",
    "\n",
    "print(error_ucz_sum)\n",
    "print(error_wer_sum)\n",
    "errors=np.array([error_ucz_sum])\n",
    "errors=np.column_stack((errors,error_wer_sum))\n",
    "header = \"Dane uczące,Dane weryfikujące\"\n",
    "np.savetxt(\"wyniki_csv/bledy_mod_lin.csv\", errors, delimiter=\",\", header=header, comments='', fmt='%.2f')"
   ],
   "id": "835f857aa646a785",
   "execution_count": 26,
   "outputs": []
  },
  {
   "metadata": {},
   "cell_type": "markdown",
   "source": [
    "# Statyczny model nieliniowy metodą najmieszych kwadratów\n",
    "## Wyznaczanie parametrów"
   ],
   "id": "df15642e85ab98a7"
  },
  {
   "metadata": {
    "ExecuteTime": {
     "end_time": "2024-06-08T20:17:13.944207Z",
     "start_time": "2024-06-08T20:17:13.938678Z"
    }
   },
   "cell_type": "code",
   "source": [
    "N=6\n",
    "print(N)"
   ],
   "id": "3e2e779c506cc7eb",
   "execution_count": 27,
   "outputs": []
  },
  {
   "metadata": {
    "ExecuteTime": {
     "end_time": "2024-06-08T20:17:13.954297Z",
     "start_time": "2024-06-08T20:17:13.945212Z"
    }
   },
   "cell_type": "code",
   "source": [
    "a=np.zeros((N+1,N))\n",
    "\n",
    "for n in range(1,N+1):\n",
    "    a_temp=nmk_nlin_mod_stat(dane_ucz[:,0][:, np.newaxis],dane_ucz[:,1][:, np.newaxis],n)\n",
    "    a[0:n+1,n-1]=a_temp.ravel()\n",
    "print(a)"
   ],
   "id": "d90a758b40edc184",
   "execution_count": 28,
   "outputs": []
  },
  {
   "metadata": {},
   "cell_type": "markdown",
   "source": "## Wyznaczanie błędów",
   "id": "da96d92b6ef56c65"
  },
  {
   "metadata": {
    "ExecuteTime": {
     "end_time": "2024-06-08T20:25:02.631615Z",
     "start_time": "2024-06-08T20:25:02.624127Z"
    }
   },
   "cell_type": "code",
   "source": [
    "error_ucz_sum = np.zeros((N,1))\n",
    "error_wer_sum = np.zeros((N,1))\n",
    "for n in range(1, N+1):\n",
    "    error_ucz_sum[n-1, 0] = model_stat_error(dane_ucz[:,0], dane_ucz[:,1], nlin_mod_stat_func, a[:n+1,n-1])\n",
    "    error_wer_sum[n-1, 0] = model_stat_error(dane_wer[:,0], dane_wer[:,1], nlin_mod_stat_func, a[:n+1,n-1])\n",
    "\n",
    "print(error_ucz_sum)\n",
    "print(error_wer_sum)\n",
    "\n",
    "errors=np.array([range(1,N+1)]).T\n",
    "errors=np.column_stack((errors,error_ucz_sum))\n",
    "errors=np.column_stack((errors,error_wer_sum))\n",
    "\n",
    "header = \"Stopień wielomianu,Dane uczące,Dane weryfikujące\"\n",
    "np.savetxt(\"wyniki_csv/bledy_mod_nlin.csv\", errors, delimiter=\",\", header=header, comments='', fmt='%d, %.5f, %.5f')"
   ],
   "id": "fdd5e0a1bfae1312",
   "execution_count": 33,
   "outputs": []
  },
  {
   "metadata": {},
   "cell_type": "markdown",
   "source": "## Wykresy\n",
   "id": "b546584149ed617b"
  },
  {
   "metadata": {},
   "cell_type": "markdown",
   "source": "#### Generowanie charakterystyk",
   "id": "3165bb9c0732ed4f"
  },
  {
   "metadata": {
    "ExecuteTime": {
     "end_time": "2024-06-08T20:17:15.009633Z",
     "start_time": "2024-06-08T20:17:13.963174Z"
    }
   },
   "cell_type": "code",
   "source": [
    "u_vals=np.linspace(-1,1,100)\n",
    "for n in range(0, N):\n",
    "    def func(x):\n",
    "        val=a[0,n]\n",
    "        for i in range(1,N+1):\n",
    "            val = val+a[i,n]*x**i\n",
    "        return val\n",
    "    \n",
    "    plt.figure(figsize=(6, 4))\n",
    "    plt.plot(u_vals,np.vectorize(func)(u_vals))\n",
    "    \n",
    "    plt.title('Charakterystyka statyczna y(u) dla potęgi'+str(n+1))\n",
    "    plt.xlabel('u')\n",
    "    plt.ylabel('y')\n",
    "    plt.grid(True)\n",
    "    path='wykresy/char_stat_nlin'+str(n+1)+'.png'\n",
    "    plt.savefig(path,dpi=300)\n",
    "    plt.show()"
   ],
   "id": "8dcad46999ac44a8",
   "execution_count": 30,
   "outputs": []
  },
  {
   "metadata": {},
   "cell_type": "markdown",
   "source": "#### Generowanie wykresów dla zbioru uczącego",
   "id": "6a020b53da41b921"
  },
  {
   "metadata": {
    "ExecuteTime": {
     "end_time": "2024-06-08T20:17:16.081668Z",
     "start_time": "2024-06-08T20:17:15.010452Z"
    }
   },
   "cell_type": "code",
   "source": [
    "for n in range(0, N):\n",
    "    def func(x):\n",
    "        val=a[0,n]\n",
    "        for i in range(1,N+1):\n",
    "            val = val+a[i,n]*x**i\n",
    "        return val\n",
    "\n",
    "    plt.figure(figsize=(6, 4))\n",
    "    plt.plot(dane_ucz[:,0],dane_ucz[:,1], 'o', label='obiekt')\n",
    "    plt.plot(dane_ucz[:,0],np.array([func(x) for x in dane_ucz[:,0]]).T, 'o', label='model')\n",
    "    # plt.title('Wykres modelu i obiektu zbioru uczącego dla potęgi '+str(n+1))\n",
    "    plt.xlabel('u')\n",
    "    plt.ylabel('y')\n",
    "    plt.legend()\n",
    "    plt.grid(True)\n",
    "    path='wykresy/model_stat_nlin_dane_ucz_pow_'+str(n+1)+'.png'\n",
    "    plt.savefig(path,dpi=300)\n",
    "    plt.show()"
   ],
   "id": "21b594d553e2ca43",
   "execution_count": 31,
   "outputs": []
  },
  {
   "metadata": {},
   "cell_type": "markdown",
   "source": "#### Generowanie wykresów dal zbioru weryfikującego",
   "id": "5325352327013a29"
  },
  {
   "metadata": {
    "ExecuteTime": {
     "end_time": "2024-06-08T20:17:17.155244Z",
     "start_time": "2024-06-08T20:17:16.081668Z"
    }
   },
   "cell_type": "code",
   "source": [
    "for n in range(0, N):\n",
    "    def func(x):\n",
    "        val=a[0,n]\n",
    "        for i in range(1,N+1):\n",
    "            val = val+a[i,n]*x**i\n",
    "        return val\n",
    "\n",
    "    plt.figure(figsize=(6, 4))\n",
    "    plt.plot(dane_wer[:,0],dane_wer[:,1], 'o', label='obiekt')\n",
    "    plt.plot(dane_wer[:,0],np.array([func(x) for x in dane_wer[:,0]]).T, 'o', label='model')\n",
    "    # plt.title('Wykres modelu i obiektu zbioru weryfikującego dla potęgi '+str(n+1))\n",
    "    plt.xlabel('u')\n",
    "    plt.ylabel('y')\n",
    "    plt.legend()\n",
    "    plt.grid(True)\n",
    "    path='wykresy/model_stat_nlin_dane_wer_pow_'+str(n+1)+'.png'\n",
    "    plt.savefig(path,dpi=300)\n",
    "    plt.show()"
   ],
   "id": "6fd3146d8c407872",
   "execution_count": 32,
   "outputs": []
  },
  {
   "metadata": {
    "ExecuteTime": {
     "end_time": "2024-06-08T20:17:17.158269Z",
     "start_time": "2024-06-08T20:17:17.155244Z"
    }
   },
   "cell_type": "code",
   "source": "",
   "id": "7125787fbd8aed07",
   "execution_count": 32,
   "outputs": []
  }
 ],
 "metadata": {
  "kernelspec": {
   "display_name": "Python 3",
   "language": "python",
   "name": "python3"
  },
  "language_info": {
   "codemirror_mode": {
    "name": "ipython",
    "version": 2
   },
   "file_extension": ".py",
   "mimetype": "text/x-python",
   "name": "python",
   "nbconvert_exporter": "python",
   "pygments_lexer": "ipython2",
   "version": "2.7.6"
  }
 },
 "nbformat": 4,
 "nbformat_minor": 5
}
